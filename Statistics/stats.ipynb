{
 "cells": [
  {
   "cell_type": "code",
   "execution_count": 1,
   "metadata": {},
   "outputs": [],
   "source": [
    "import scipy.stats as stats\n",
    "import pandas as pd\n",
    "\n",
    "df1 =pd.read_csv('time_data.csv')\n",
    "brute_force = df1['brute']\n",
    "dynamic_programming = df1['dp']\n",
    "branch_and_bound = df1['bnb']"
   ]
  },
  {
   "cell_type": "code",
   "execution_count": 2,
   "metadata": {},
   "outputs": [
    {
     "name": "stdout",
     "output_type": "stream",
     "text": [
      "Normality Test for brute force: ShapiroResult(statistic=0.4577925949827897, pvalue=2.295652987605654e-45)\n",
      "Normality Test for dp: ShapiroResult(statistic=0.6513249541322942, pvalue=6.198825258627573e-39)\n",
      "Normality Test for bnb: ShapiroResult(statistic=0.4530679353317094, pvalue=1.695912712826796e-45)\n",
      "LeveneResult(statistic=161.449454159331, pvalue=7.163772760270203e-67)\n"
     ]
    }
   ],
   "source": [
    "print(\"Normality Test for brute force:\", stats.shapiro(brute_force))\n",
    "print(\"Normality Test for dp:\", stats.shapiro(dynamic_programming))\n",
    "print(\"Normality Test for bnb:\", stats.shapiro(branch_and_bound))\n",
    "print(stats.levene(brute_force, branch_and_bound, dynamic_programming))  "
   ]
  },
  {
   "cell_type": "code",
   "execution_count": 3,
   "metadata": {},
   "outputs": [
    {
     "name": "stdout",
     "output_type": "stream",
     "text": [
      "Brute Force vs Dynamic Programming: U-statistic = 470361.5 , p-value = 6.142848138876425e-15\n",
      "Brute Force vs Branch and Bound: U-statistic = 619822.0 , p-value = 1.4553703376306609e-105\n",
      "Dynamic Programming vs Branch and Bound: U-statistic = 581940.5 , p-value = 1.4932133120464699e-74\n"
     ]
    }
   ],
   "source": [
    "from scipy.stats import mannwhitneyu\n",
    "\n",
    "# Compare Brute Force vs Dynamic Programming\n",
    "stat_bf_dp, p_bf_dp = mannwhitneyu(brute_force, dynamic_programming, alternative='two-sided')\n",
    "print(\"Brute Force vs Dynamic Programming: U-statistic =\", stat_bf_dp, \", p-value =\", p_bf_dp)\n",
    "\n",
    "# Compare Brute Force vs Branch and Bound\n",
    "stat_bf_bnb, p_bf_bnb = mannwhitneyu(brute_force, branch_and_bound, alternative='two-sided')\n",
    "print(\"Brute Force vs Branch and Bound: U-statistic =\", stat_bf_bnb, \", p-value =\", p_bf_bnb)\n",
    "\n",
    "# Compare Dynamic Programming vs Branch and Bound\n",
    "stat_dp_bnb, p_dp_bnb = mannwhitneyu(dynamic_programming, branch_and_bound, alternative='two-sided')\n",
    "print(\"Dynamic Programming vs Branch and Bound: U-statistic =\", stat_dp_bnb, \", p-value =\", p_dp_bnb)\n"
   ]
  },
  {
   "cell_type": "markdown",
   "metadata": {},
   "source": [
    "SPACE "
   ]
  },
  {
   "cell_type": "code",
   "execution_count": 4,
   "metadata": {},
   "outputs": [],
   "source": [
    "df2 =pd.read_csv('space_data.csv')\n",
    "brute_force = df2['brute']\n",
    "dynamic_programming = df2['dp']\n",
    "branch_and_bound = df2['bnb']"
   ]
  },
  {
   "cell_type": "code",
   "execution_count": 5,
   "metadata": {},
   "outputs": [
    {
     "name": "stdout",
     "output_type": "stream",
     "text": [
      "Normality Test for brute force: ShapiroResult(statistic=0.9830197304238754, pvalue=1.3932887265682525e-08)\n",
      "Normality Test for dp: ShapiroResult(statistic=0.6723092745997954, pvalue=4.523921227721369e-38)\n",
      "Normality Test for bnb: ShapiroResult(statistic=0.9828597830450329, pvalue=1.2204281245208598e-08)\n",
      "LeveneResult(statistic=335.9604993216185, pvalue=1.0646083222100704e-130)\n"
     ]
    }
   ],
   "source": [
    "print(\"Normality Test for brute force:\", stats.shapiro(brute_force))\n",
    "print(\"Normality Test for dp:\", stats.shapiro(dynamic_programming))\n",
    "print(\"Normality Test for bnb:\", stats.shapiro(branch_and_bound))\n",
    "print(stats.levene(brute_force, branch_and_bound, dynamic_programming))  "
   ]
  },
  {
   "cell_type": "code",
   "execution_count": 6,
   "metadata": {},
   "outputs": [
    {
     "name": "stdout",
     "output_type": "stream",
     "text": [
      "Brute Force vs Dynamic Programming: U-statistic = 331806.5 , p-value = 2.0340492979931473e-07\n",
      "Brute Force vs Branch and Bound: U-statistic = 396603.0 , p-value = 0.37776776504803977\n",
      "Dynamic Programming vs Branch and Bound: U-statistic = 443338.5 , p-value = 1.3936166496850374e-07\n"
     ]
    }
   ],
   "source": [
    "from scipy.stats import mannwhitneyu\n",
    "\n",
    "# Compare Brute Force vs Dynamic Programming\n",
    "stat_bf_dp, p_bf_dp = mannwhitneyu(brute_force, dynamic_programming, alternative='two-sided')\n",
    "print(\"Brute Force vs Dynamic Programming: U-statistic =\", stat_bf_dp, \", p-value =\", p_bf_dp)\n",
    "\n",
    "# Compare Brute Force vs Branch and Bound\n",
    "stat_bf_bnb, p_bf_bnb = mannwhitneyu(brute_force, branch_and_bound, alternative='two-sided')\n",
    "print(\"Brute Force vs Branch and Bound: U-statistic =\", stat_bf_bnb, \", p-value =\", p_bf_bnb)\n",
    "\n",
    "# Compare Dynamic Programming vs Branch and Bound\n",
    "stat_dp_bnb, p_dp_bnb = mannwhitneyu(dynamic_programming, branch_and_bound, alternative='two-sided')\n",
    "print(\"Dynamic Programming vs Branch and Bound: U-statistic =\", stat_dp_bnb, \", p-value =\", p_dp_bnb)\n"
   ]
  }
 ],
 "metadata": {
  "kernelspec": {
   "display_name": "Python 3",
   "language": "python",
   "name": "python3"
  },
  "language_info": {
   "codemirror_mode": {
    "name": "ipython",
    "version": 3
   },
   "file_extension": ".py",
   "mimetype": "text/x-python",
   "name": "python",
   "nbconvert_exporter": "python",
   "pygments_lexer": "ipython3",
   "version": "3.11.5"
  }
 },
 "nbformat": 4,
 "nbformat_minor": 2
}
